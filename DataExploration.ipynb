{
 "cells": [
  {
   "cell_type": "markdown",
   "id": "e8a836ce",
   "metadata": {},
   "source": [
    "# OCEANIC AIRSPACE PROJECT"
   ]
  },
  {
   "cell_type": "code",
   "execution_count": null,
   "id": "8bd983cc",
   "metadata": {},
   "outputs": [],
   "source": []
  },
  {
   "cell_type": "code",
   "execution_count": 3,
   "id": "047ea5f5",
   "metadata": {},
   "outputs": [
    {
     "name": "stdout",
     "output_type": "stream",
     "text": [
      "Looking in indexes: https://pypi.org/simple, https://pip.repos.neuron.amazonaws.com\n",
      "Collecting geopandas\n",
      "  Downloading geopandas-0.10.2-py2.py3-none-any.whl (1.0 MB)\n",
      "\u001b[2K     \u001b[90m━━━━━━━━━━━━━━━━━━━━━━━━━━━━━━━━━━━━━━━━\u001b[0m \u001b[32m1.0/1.0 MB\u001b[0m \u001b[31m13.8 MB/s\u001b[0m eta \u001b[36m0:00:00\u001b[0m00:01\u001b[0m\n",
      "\u001b[?25hCollecting pyproj>=2.2.0\n",
      "  Downloading pyproj-3.3.1-cp38-cp38-manylinux_2_17_x86_64.manylinux2014_x86_64.whl (7.7 MB)\n",
      "\u001b[2K     \u001b[90m━━━━━━━━━━━━━━━━━━━━━━━━━━━━━━━━━━━━━━━━\u001b[0m \u001b[32m7.7/7.7 MB\u001b[0m \u001b[31m35.3 MB/s\u001b[0m eta \u001b[36m0:00:00\u001b[0m:00:01\u001b[0m00:01\u001b[0m\n",
      "\u001b[?25hCollecting fiona>=1.8\n",
      "  Downloading Fiona-1.8.21-cp38-cp38-manylinux_2_17_x86_64.manylinux2014_x86_64.whl (16.6 MB)\n",
      "\u001b[2K     \u001b[90m━━━━━━━━━━━━━━━━━━━━━━━━━━━━━━━━━━━━━━━━\u001b[0m \u001b[32m16.6/16.6 MB\u001b[0m \u001b[31m22.8 MB/s\u001b[0m eta \u001b[36m0:00:00\u001b[0m00:01\u001b[0m00:01\u001b[0m\n",
      "\u001b[?25hCollecting shapely>=1.6\n",
      "  Downloading Shapely-1.8.2-cp38-cp38-manylinux_2_12_x86_64.manylinux2010_x86_64.whl (2.1 MB)\n",
      "\u001b[2K     \u001b[90m━━━━━━━━━━━━━━━━━━━━━━━━━━━━━━━━━━━━━━━━\u001b[0m \u001b[32m2.1/2.1 MB\u001b[0m \u001b[31m18.3 MB/s\u001b[0m eta \u001b[36m0:00:00\u001b[0m:00:01\u001b[0m\n",
      "\u001b[?25hRequirement already satisfied: pandas>=0.25.0 in /home/ec2-user/anaconda3/envs/python3/lib/python3.8/site-packages (from geopandas) (1.3.4)\n",
      "Collecting cligj>=0.5\n",
      "  Downloading cligj-0.7.2-py3-none-any.whl (7.1 kB)\n",
      "Requirement already satisfied: certifi in /home/ec2-user/anaconda3/envs/python3/lib/python3.8/site-packages (from fiona>=1.8->geopandas) (2021.10.8)\n",
      "Requirement already satisfied: six>=1.7 in /home/ec2-user/anaconda3/envs/python3/lib/python3.8/site-packages (from fiona>=1.8->geopandas) (1.16.0)\n",
      "Collecting click-plugins>=1.0\n",
      "  Downloading click_plugins-1.1.1-py2.py3-none-any.whl (7.5 kB)\n",
      "Collecting munch\n",
      "  Downloading munch-2.5.0-py2.py3-none-any.whl (10 kB)\n",
      "Requirement already satisfied: setuptools in /home/ec2-user/anaconda3/envs/python3/lib/python3.8/site-packages (from fiona>=1.8->geopandas) (59.4.0)\n",
      "Requirement already satisfied: click>=4.0 in /home/ec2-user/anaconda3/envs/python3/lib/python3.8/site-packages (from fiona>=1.8->geopandas) (8.0.3)\n",
      "Requirement already satisfied: attrs>=17 in /home/ec2-user/anaconda3/envs/python3/lib/python3.8/site-packages (from fiona>=1.8->geopandas) (20.3.0)\n",
      "Requirement already satisfied: python-dateutil>=2.7.3 in /home/ec2-user/anaconda3/envs/python3/lib/python3.8/site-packages (from pandas>=0.25.0->geopandas) (2.8.2)\n",
      "Requirement already satisfied: pytz>=2017.3 in /home/ec2-user/anaconda3/envs/python3/lib/python3.8/site-packages (from pandas>=0.25.0->geopandas) (2021.3)\n",
      "Requirement already satisfied: numpy>=1.17.3 in /home/ec2-user/anaconda3/envs/python3/lib/python3.8/site-packages (from pandas>=0.25.0->geopandas) (1.20.3)\n",
      "Installing collected packages: shapely, pyproj, munch, cligj, click-plugins, fiona, geopandas\n",
      "Successfully installed click-plugins-1.1.1 cligj-0.7.2 fiona-1.8.21 geopandas-0.10.2 munch-2.5.0 pyproj-3.3.1 shapely-1.8.2\n",
      "\u001b[33mWARNING: You are using pip version 22.0.4; however, version 22.1.2 is available.\n",
      "You should consider upgrading via the '/home/ec2-user/anaconda3/envs/python3/bin/python -m pip install --upgrade pip' command.\u001b[0m\u001b[33m\n",
      "\u001b[0mNote: you may need to restart the kernel to use updated packages.\n"
     ]
    }
   ],
   "source": [
    "pip install geopandas"
   ]
  },
  {
   "cell_type": "code",
   "execution_count": 4,
   "id": "5a80b3aa",
   "metadata": {},
   "outputs": [
    {
     "name": "stdout",
     "output_type": "stream",
     "text": [
      "Looking in indexes: https://pypi.org/simple, https://pip.repos.neuron.amazonaws.com\n",
      "Collecting geopy\n",
      "  Downloading geopy-2.2.0-py3-none-any.whl (118 kB)\n",
      "\u001b[2K     \u001b[90m━━━━━━━━━━━━━━━━━━━━━━━━━━━━━━━━━━━━━━\u001b[0m \u001b[32m118.9/118.9 KB\u001b[0m \u001b[31m13.1 MB/s\u001b[0m eta \u001b[36m0:00:00\u001b[0m\n",
      "\u001b[?25hCollecting geographiclib<2,>=1.49\n",
      "  Downloading geographiclib-1.52-py3-none-any.whl (38 kB)\n",
      "Installing collected packages: geographiclib, geopy\n",
      "Successfully installed geographiclib-1.52 geopy-2.2.0\n",
      "\u001b[33mWARNING: You are using pip version 22.0.4; however, version 22.1.2 is available.\n",
      "You should consider upgrading via the '/home/ec2-user/anaconda3/envs/python3/bin/python -m pip install --upgrade pip' command.\u001b[0m\u001b[33m\n",
      "\u001b[0mNote: you may need to restart the kernel to use updated packages.\n"
     ]
    }
   ],
   "source": [
    "pip install geopy"
   ]
  },
  {
   "cell_type": "code",
   "execution_count": 5,
   "id": "b14fbfed",
   "metadata": {},
   "outputs": [
    {
     "name": "stdout",
     "output_type": "stream",
     "text": [
      "Looking in indexes: https://pypi.org/simple, https://pip.repos.neuron.amazonaws.com\n",
      "Requirement already satisfied: shapely in /home/ec2-user/anaconda3/envs/python3/lib/python3.8/site-packages (1.8.2)\n",
      "\u001b[33mWARNING: You are using pip version 22.0.4; however, version 22.1.2 is available.\n",
      "You should consider upgrading via the '/home/ec2-user/anaconda3/envs/python3/bin/python -m pip install --upgrade pip' command.\u001b[0m\u001b[33m\n",
      "\u001b[0mNote: you may need to restart the kernel to use updated packages.\n"
     ]
    }
   ],
   "source": [
    "pip install shapely "
   ]
  },
  {
   "cell_type": "code",
   "execution_count": 1,
   "id": "a5ebd1c4",
   "metadata": {},
   "outputs": [],
   "source": [
    "#Import Libraries\n",
    "import pandas as pd\n",
    "import geopandas as ps\n",
    "import geopy as gy\n",
    "import shapely as sy\n",
    "import dask.dataframe as dd"
   ]
  },
  {
   "cell_type": "code",
   "execution_count": 2,
   "id": "53205341",
   "metadata": {},
   "outputs": [],
   "source": [
    "#Setup the path for the file -- might have to change this if yours is named differently\n",
    "bucket = 'daen-690-pacific-deviations' #Bucket name\n",
    "data_key = 'raw-data/TOMRDate=2021-12-24.csv' #Path to the CSV file \n",
    "data_location = 's3://{}/{}'.format(bucket, data_key)"
   ]
  },
  {
   "cell_type": "code",
   "execution_count": 3,
   "id": "6f5040ec",
   "metadata": {},
   "outputs": [
    {
     "name": "stdout",
     "output_type": "stream",
     "text": [
      "Total record count :  3303988\n"
     ]
    }
   ],
   "source": [
    "#Import all of the raw data \n",
    "rawData_df = dd.read_csv(data_location, assume_missing=True)\n",
    "print(f'Total record count : ',len(rawData_df.index))"
   ]
  },
  {
   "cell_type": "code",
   "execution_count": 21,
   "id": "12506156",
   "metadata": {},
   "outputs": [
    {
     "data": {
      "text/html": [
       "<div>\n",
       "<style scoped>\n",
       "    .dataframe tbody tr th:only-of-type {\n",
       "        vertical-align: middle;\n",
       "    }\n",
       "\n",
       "    .dataframe tbody tr th {\n",
       "        vertical-align: top;\n",
       "    }\n",
       "\n",
       "    .dataframe thead th {\n",
       "        text-align: right;\n",
       "    }\n",
       "</style>\n",
       "<table border=\"1\" class=\"dataframe\">\n",
       "  <thead>\n",
       "    <tr style=\"text-align: right;\">\n",
       "      <th></th>\n",
       "      <th>DateTime</th>\n",
       "      <th>Latitude</th>\n",
       "      <th>Longitude</th>\n",
       "      <th>Height</th>\n",
       "      <th>FlightLevel</th>\n",
       "      <th>SelectAltitude</th>\n",
       "      <th>TargetID</th>\n",
       "      <th>SelectedHeading</th>\n",
       "      <th>TargetAddress</th>\n",
       "      <th>TrackNumber</th>\n",
       "      <th>MessageID</th>\n",
       "      <th>HostID</th>\n",
       "      <th>VolumeTags</th>\n",
       "    </tr>\n",
       "  </thead>\n",
       "  <tbody>\n",
       "    <tr>\n",
       "      <th>0</th>\n",
       "      <td>2021-12-24T23:59:59.992Z</td>\n",
       "      <td>21.325208</td>\n",
       "      <td>-158.058116</td>\n",
       "      <td>2200.0</td>\n",
       "      <td>20.00</td>\n",
       "      <td>100.0</td>\n",
       "      <td>UAL253</td>\n",
       "      <td>78.750000</td>\n",
       "      <td>AA92F9</td>\n",
       "      <td>1277.0</td>\n",
       "      <td>8422555.0</td>\n",
       "      <td>120.0</td>\n",
       "      <td>00-00-f0-d2</td>\n",
       "    </tr>\n",
       "    <tr>\n",
       "      <th>1</th>\n",
       "      <td>2021-12-24T20:54:11.141Z</td>\n",
       "      <td>21.321762</td>\n",
       "      <td>-157.908142</td>\n",
       "      <td>75.0</td>\n",
       "      <td>-1.25</td>\n",
       "      <td>NaN</td>\n",
       "      <td>N357MH</td>\n",
       "      <td>NaN</td>\n",
       "      <td>A3FFE9</td>\n",
       "      <td>640.0</td>\n",
       "      <td>10131691.0</td>\n",
       "      <td>114.0</td>\n",
       "      <td>NaN</td>\n",
       "    </tr>\n",
       "    <tr>\n",
       "      <th>2</th>\n",
       "      <td>2021-12-24T12:36:02.773Z</td>\n",
       "      <td>37.307144</td>\n",
       "      <td>-139.574170</td>\n",
       "      <td>35675.0</td>\n",
       "      <td>350.00</td>\n",
       "      <td>NaN</td>\n",
       "      <td>ASA899</td>\n",
       "      <td>NaN</td>\n",
       "      <td>A7B779</td>\n",
       "      <td>1024.0</td>\n",
       "      <td>8122584.0</td>\n",
       "      <td>132.0</td>\n",
       "      <td>00-00-f0-d2</td>\n",
       "    </tr>\n",
       "    <tr>\n",
       "      <th>3</th>\n",
       "      <td>2021-12-24T04:13:17.836Z</td>\n",
       "      <td>21.496660</td>\n",
       "      <td>-146.918742</td>\n",
       "      <td>37300.0</td>\n",
       "      <td>360.00</td>\n",
       "      <td>36000.0</td>\n",
       "      <td>HAL50</td>\n",
       "      <td>NaN</td>\n",
       "      <td>A48E9E</td>\n",
       "      <td>1024.0</td>\n",
       "      <td>13722248.0</td>\n",
       "      <td>108.0</td>\n",
       "      <td>00-00-f0-d2</td>\n",
       "    </tr>\n",
       "    <tr>\n",
       "      <th>4</th>\n",
       "      <td>2021-12-24T23:59:59.984Z</td>\n",
       "      <td>25.936523</td>\n",
       "      <td>-149.628348</td>\n",
       "      <td>38775.0</td>\n",
       "      <td>380.00</td>\n",
       "      <td>38025.0</td>\n",
       "      <td>SWA2385</td>\n",
       "      <td>45.703125</td>\n",
       "      <td>ABF949</td>\n",
       "      <td>1024.0</td>\n",
       "      <td>16480714.0</td>\n",
       "      <td>151.0</td>\n",
       "      <td>00-00-f0-d2</td>\n",
       "    </tr>\n",
       "  </tbody>\n",
       "</table>\n",
       "</div>"
      ],
      "text/plain": [
       "                   DateTime   Latitude   Longitude   Height  FlightLevel  \\\n",
       "0  2021-12-24T23:59:59.992Z  21.325208 -158.058116   2200.0        20.00   \n",
       "1  2021-12-24T20:54:11.141Z  21.321762 -157.908142     75.0        -1.25   \n",
       "2  2021-12-24T12:36:02.773Z  37.307144 -139.574170  35675.0       350.00   \n",
       "3  2021-12-24T04:13:17.836Z  21.496660 -146.918742  37300.0       360.00   \n",
       "4  2021-12-24T23:59:59.984Z  25.936523 -149.628348  38775.0       380.00   \n",
       "\n",
       "   SelectAltitude TargetID  SelectedHeading TargetAddress  TrackNumber  \\\n",
       "0           100.0   UAL253        78.750000        AA92F9       1277.0   \n",
       "1             NaN   N357MH              NaN        A3FFE9        640.0   \n",
       "2             NaN   ASA899              NaN        A7B779       1024.0   \n",
       "3         36000.0    HAL50              NaN        A48E9E       1024.0   \n",
       "4         38025.0  SWA2385        45.703125        ABF949       1024.0   \n",
       "\n",
       "    MessageID  HostID   VolumeTags  \n",
       "0   8422555.0   120.0  00-00-f0-d2  \n",
       "1  10131691.0   114.0          NaN  \n",
       "2   8122584.0   132.0  00-00-f0-d2  \n",
       "3  13722248.0   108.0  00-00-f0-d2  \n",
       "4  16480714.0   151.0  00-00-f0-d2  "
      ]
     },
     "execution_count": 21,
     "metadata": {},
     "output_type": "execute_result"
    }
   ],
   "source": [
    "#New dataframe with selected attributes from the raw data\n",
    "airspaceData_df =rawData_df[[\"FRN73TMRPDateTimeOfMessageRec\",\"FRN131HRPWCFloatingPointLat\",\"FRN131HRPWCFloatingPointLong\",\"FRN140GHGeometricHeight\",\n",
    "                 \"FRN145FLFlightLevel\",\"FRN146SASelectedAltitude\",\"FRN170TITargetId\",\"RESHSelectedHeading\",\"FRN80TATargetAddress\",\n",
    "                 \"FRN161TNTrackNumber\",\"SPFMessageId\",\"SPFHostIdentifier\",\"FIRVolumeTags\"]]\n",
    "\n",
    "#Rename columns to make it easier to read\n",
    "airspaceData_df = airspaceData_df.rename(columns={'FRN73TMRPDateTimeOfMessageRec': 'DateTime', \n",
    "                                                  'FRN131HRPWCFloatingPointLat': \"Latitude\", \n",
    "                                                  'FRN131HRPWCFloatingPointLong': \"Longitude\", \n",
    "                                                  'FRN140GHGeometricHeight': \"Height\", \n",
    "                                                  'FRN145FLFlightLevel': \"FlightLevel\", \n",
    "                                                  'FRN146SASelectedAltitude': \"SelectAltitude\", \n",
    "                                                  'FRN170TITargetId': \"TargetID\", \n",
    "                                                  'RESHSelectedHeading': \"SelectedHeading\", \n",
    "                                                  'FRN80TATargetAddress': \"TargetAddress\",\n",
    "                                                  'FRN161TNTrackNumber': \"TrackNumber\", \n",
    "                                                  'SPFMessageId': \"MessageID\", \n",
    "                                                  'SPFHostIdentifier': \"HostID\", \n",
    "                                                  'FIRVolumeTags': \"VolumeTags\"})\n",
    "\n",
    "#Preview to ensure everything is looking as expected \n",
    "airspaceData_df.head()"
   ]
  },
  {
   "cell_type": "code",
   "execution_count": 1,
   "id": "1763d573",
   "metadata": {},
   "outputs": [],
   "source": [
    "a=1\n"
   ]
  }
 ],
 "metadata": {
  "kernelspec": {
   "display_name": "conda_python3",
   "language": "python",
   "name": "conda_python3"
  },
  "language_info": {
   "codemirror_mode": {
    "name": "ipython",
    "version": 3
   },
   "file_extension": ".py",
   "mimetype": "text/x-python",
   "name": "python",
   "nbconvert_exporter": "python",
   "pygments_lexer": "ipython3",
   "version": "3.6.13"
  }
 },
 "nbformat": 4,
 "nbformat_minor": 5
}
