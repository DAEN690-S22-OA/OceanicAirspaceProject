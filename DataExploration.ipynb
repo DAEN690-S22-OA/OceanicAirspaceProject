{
 "cells": [
  {
   "cell_type": "markdown",
   "id": "470f7210",
   "metadata": {},
   "source": [
    "# OCEANIC AIRSPACE PROJECT"
   ]
  },
  {
   "cell_type": "code",
   "execution_count": 49,
   "id": "49580106",
   "metadata": {},
   "outputs": [
    {
     "name": "stdout",
     "output_type": "stream",
     "text": [
      "Requirement already satisfied: geopandas in /home/ec2-user/anaconda3/envs/python3/lib/python3.6/site-packages (0.9.0)\n",
      "Requirement already satisfied: fiona>=1.8 in /home/ec2-user/anaconda3/envs/python3/lib/python3.6/site-packages (from geopandas) (1.8.21)\n",
      "Requirement already satisfied: pandas>=0.24.0 in /home/ec2-user/anaconda3/envs/python3/lib/python3.6/site-packages (from geopandas) (1.1.5)\n",
      "Requirement already satisfied: shapely>=1.6 in /home/ec2-user/anaconda3/envs/python3/lib/python3.6/site-packages (from geopandas) (1.8.2)\n",
      "Requirement already satisfied: pyproj>=2.2.0 in /home/ec2-user/anaconda3/envs/python3/lib/python3.6/site-packages (from geopandas) (3.0.1)\n",
      "Requirement already satisfied: six>=1.7 in /home/ec2-user/anaconda3/envs/python3/lib/python3.6/site-packages (from fiona>=1.8->geopandas) (1.15.0)\n",
      "Requirement already satisfied: setuptools in /home/ec2-user/anaconda3/envs/python3/lib/python3.6/site-packages (from fiona>=1.8->geopandas) (49.6.0.post20210108)\n",
      "Requirement already satisfied: certifi in /home/ec2-user/anaconda3/envs/python3/lib/python3.6/site-packages (from fiona>=1.8->geopandas) (2021.5.30)\n",
      "Requirement already satisfied: munch in /home/ec2-user/anaconda3/envs/python3/lib/python3.6/site-packages (from fiona>=1.8->geopandas) (2.5.0)\n",
      "Requirement already satisfied: cligj>=0.5 in /home/ec2-user/anaconda3/envs/python3/lib/python3.6/site-packages (from fiona>=1.8->geopandas) (0.7.2)\n",
      "Requirement already satisfied: click-plugins>=1.0 in /home/ec2-user/anaconda3/envs/python3/lib/python3.6/site-packages (from fiona>=1.8->geopandas) (1.1.1)\n",
      "Requirement already satisfied: click>=4.0 in /home/ec2-user/anaconda3/envs/python3/lib/python3.6/site-packages (from fiona>=1.8->geopandas) (7.1.2)\n",
      "Requirement already satisfied: attrs>=17 in /home/ec2-user/anaconda3/envs/python3/lib/python3.6/site-packages (from fiona>=1.8->geopandas) (20.3.0)\n",
      "Requirement already satisfied: python-dateutil>=2.7.3 in /home/ec2-user/anaconda3/envs/python3/lib/python3.6/site-packages (from pandas>=0.24.0->geopandas) (2.8.1)\n",
      "Requirement already satisfied: pytz>=2017.2 in /home/ec2-user/anaconda3/envs/python3/lib/python3.6/site-packages (from pandas>=0.24.0->geopandas) (2021.1)\n",
      "Requirement already satisfied: numpy>=1.15.4 in /home/ec2-user/anaconda3/envs/python3/lib/python3.6/site-packages (from pandas>=0.24.0->geopandas) (1.19.5)\n",
      "Note: you may need to restart the kernel to use updated packages.\n"
     ]
    }
   ],
   "source": [
    "pip install geopandas"
   ]
  },
  {
   "cell_type": "code",
   "execution_count": 50,
   "id": "ed15cad4",
   "metadata": {},
   "outputs": [
    {
     "name": "stdout",
     "output_type": "stream",
     "text": [
      "Requirement already satisfied: geopy in /home/ec2-user/anaconda3/envs/python3/lib/python3.6/site-packages (2.2.0)\n",
      "Requirement already satisfied: geographiclib<2,>=1.49 in /home/ec2-user/anaconda3/envs/python3/lib/python3.6/site-packages (from geopy) (1.52)\n",
      "Note: you may need to restart the kernel to use updated packages.\n"
     ]
    }
   ],
   "source": [
    "pip install geopy"
   ]
  },
  {
   "cell_type": "code",
   "execution_count": 51,
   "id": "1337c402",
   "metadata": {},
   "outputs": [
    {
     "name": "stdout",
     "output_type": "stream",
     "text": [
      "Requirement already satisfied: shapely in /home/ec2-user/anaconda3/envs/python3/lib/python3.6/site-packages (1.8.2)\n",
      "Note: you may need to restart the kernel to use updated packages.\n"
     ]
    }
   ],
   "source": [
    "pip install shapely "
   ]
  },
  {
   "cell_type": "code",
   "execution_count": 3,
   "id": "09112a98",
   "metadata": {},
   "outputs": [],
   "source": [
    "#Import Libraries\n",
    "import pandas as pd\n",
    "import geopandas as ps\n",
    "import geopy as gy\n",
    "import shapely as sy\n",
    "import dask.dataframe as dd"
   ]
  },
  {
   "cell_type": "code",
   "execution_count": 4,
   "id": "f3404ca1",
   "metadata": {},
   "outputs": [],
   "source": [
    "#Setup the path for the file -- might have to change this if yours is named differently\n",
    "bucket = '690folder/raw data' #Bucket name\n",
    "data_key = '2021-12-24.csv' #Path to the CSV file \n",
    "data_location = 's3://{}/{}'.format(bucket, data_key)"
   ]
  },
  {
   "cell_type": "code",
   "execution_count": 6,
   "id": "cc007bc4",
   "metadata": {},
   "outputs": [
    {
     "name": "stdout",
     "output_type": "stream",
     "text": [
      "Total record count :  3303988\n"
     ]
    }
   ],
   "source": [
    "#Import all of the raw data \n",
    "rawData_df = dd.read_csv(data_location, assume_missing=True)\n",
    "print(f'Total record count : ',len(rawData_df.index))"
   ]
  },
  {
   "cell_type": "code",
   "execution_count": 7,
   "id": "97548a31",
   "metadata": {
    "scrolled": true
   },
   "outputs": [
    {
     "data": {
      "text/html": [
       "<div>\n",
       "<style scoped>\n",
       "    .dataframe tbody tr th:only-of-type {\n",
       "        vertical-align: middle;\n",
       "    }\n",
       "\n",
       "    .dataframe tbody tr th {\n",
       "        vertical-align: top;\n",
       "    }\n",
       "\n",
       "    .dataframe thead th {\n",
       "        text-align: right;\n",
       "    }\n",
       "</style>\n",
       "<table border=\"1\" class=\"dataframe\">\n",
       "  <thead>\n",
       "    <tr style=\"text-align: right;\">\n",
       "      <th></th>\n",
       "      <th>DateTime</th>\n",
       "      <th>Latitude</th>\n",
       "      <th>Longitude</th>\n",
       "      <th>Height</th>\n",
       "      <th>TargetID</th>\n",
       "      <th>SelectedHeading</th>\n",
       "      <th>TargetAddress</th>\n",
       "      <th>TrackNumber</th>\n",
       "    </tr>\n",
       "  </thead>\n",
       "  <tbody>\n",
       "    <tr>\n",
       "      <th>0</th>\n",
       "      <td>2021-12-24T23:59:59.992Z</td>\n",
       "      <td>21.325208</td>\n",
       "      <td>-158.058116</td>\n",
       "      <td>2200.0</td>\n",
       "      <td>UAL253</td>\n",
       "      <td>78.750000</td>\n",
       "      <td>AA92F9</td>\n",
       "      <td>1277.0</td>\n",
       "    </tr>\n",
       "    <tr>\n",
       "      <th>1</th>\n",
       "      <td>2021-12-24T20:54:11.141Z</td>\n",
       "      <td>21.321762</td>\n",
       "      <td>-157.908142</td>\n",
       "      <td>75.0</td>\n",
       "      <td>N357MH</td>\n",
       "      <td>NaN</td>\n",
       "      <td>A3FFE9</td>\n",
       "      <td>640.0</td>\n",
       "    </tr>\n",
       "    <tr>\n",
       "      <th>2</th>\n",
       "      <td>2021-12-24T12:36:02.773Z</td>\n",
       "      <td>37.307144</td>\n",
       "      <td>-139.574170</td>\n",
       "      <td>35675.0</td>\n",
       "      <td>ASA899</td>\n",
       "      <td>NaN</td>\n",
       "      <td>A7B779</td>\n",
       "      <td>1024.0</td>\n",
       "    </tr>\n",
       "    <tr>\n",
       "      <th>3</th>\n",
       "      <td>2021-12-24T04:13:17.836Z</td>\n",
       "      <td>21.496660</td>\n",
       "      <td>-146.918742</td>\n",
       "      <td>37300.0</td>\n",
       "      <td>HAL50</td>\n",
       "      <td>NaN</td>\n",
       "      <td>A48E9E</td>\n",
       "      <td>1024.0</td>\n",
       "    </tr>\n",
       "    <tr>\n",
       "      <th>4</th>\n",
       "      <td>2021-12-24T23:59:59.984Z</td>\n",
       "      <td>25.936523</td>\n",
       "      <td>-149.628348</td>\n",
       "      <td>38775.0</td>\n",
       "      <td>SWA2385</td>\n",
       "      <td>45.703125</td>\n",
       "      <td>ABF949</td>\n",
       "      <td>1024.0</td>\n",
       "    </tr>\n",
       "  </tbody>\n",
       "</table>\n",
       "</div>"
      ],
      "text/plain": [
       "                   DateTime   Latitude   Longitude   Height TargetID  \\\n",
       "0  2021-12-24T23:59:59.992Z  21.325208 -158.058116   2200.0   UAL253   \n",
       "1  2021-12-24T20:54:11.141Z  21.321762 -157.908142     75.0   N357MH   \n",
       "2  2021-12-24T12:36:02.773Z  37.307144 -139.574170  35675.0   ASA899   \n",
       "3  2021-12-24T04:13:17.836Z  21.496660 -146.918742  37300.0    HAL50   \n",
       "4  2021-12-24T23:59:59.984Z  25.936523 -149.628348  38775.0  SWA2385   \n",
       "\n",
       "   SelectedHeading TargetAddress  TrackNumber  \n",
       "0        78.750000        AA92F9       1277.0  \n",
       "1              NaN        A3FFE9        640.0  \n",
       "2              NaN        A7B779       1024.0  \n",
       "3              NaN        A48E9E       1024.0  \n",
       "4        45.703125        ABF949       1024.0  "
      ]
     },
     "execution_count": 7,
     "metadata": {},
     "output_type": "execute_result"
    }
   ],
   "source": [
    "#New dataframe with selected attributes from the raw data\n",
    "airspaceData_df =rawData_df[[\"FRN73TMRPDateTimeOfMessageRec\",\"FRN131HRPWCFloatingPointLat\",\"FRN131HRPWCFloatingPointLong\",\"FRN140GHGeometricHeight\",\n",
    "                 \"FRN170TITargetId\",\"RESHSelectedHeading\",\"FRN80TATargetAddress\",\n",
    "                 \"FRN161TNTrackNumber\"]]\n",
    "\n",
    "#Rename columns to make it easier to read\n",
    "airspaceData_df = airspaceData_df.rename(columns={'FRN73TMRPDateTimeOfMessageRec': 'DateTime', \n",
    "                                                  'FRN131HRPWCFloatingPointLat': \"Latitude\", \n",
    "                                                  'FRN131HRPWCFloatingPointLong': \"Longitude\", \n",
    "                                                  'FRN140GHGeometricHeight': \"Height\", \n",
    "                                                  'FRN170TITargetId': \"TargetID\", \n",
    "                                                  'RESHSelectedHeading': \"SelectedHeading\", \n",
    "                                                  'FRN80TATargetAddress': \"TargetAddress\",\n",
    "                                                  'FRN161TNTrackNumber': \"TrackNumber\"})\n",
    "\n",
    "#Preview to ensure everything is looking as expected \n",
    "airspaceData_df.head()"
   ]
  },
  {
   "cell_type": "code",
   "execution_count": 8,
   "id": "f82628b4",
   "metadata": {},
   "outputs": [],
   "source": [
    "# Remove unnescessary characters \n",
    "char = ['T','Z']\n",
    "for x in char:\n",
    "    airspaceData_df[\"DateTime\"] = airspaceData_df[\"DateTime\"].str.replace( x ,\" \")\n",
    "\n",
    "# Formatted Datetime\n",
    "airspaceData_df[\"DateTime\"] = dd.to_datetime(airspaceData_df[\"DateTime\"], format=\"%Y-%m-%d %H:%M:%S\")"
   ]
  },
  {
   "cell_type": "code",
   "execution_count": 9,
   "id": "d1425e91",
   "metadata": {},
   "outputs": [],
   "source": [
    "# Create 4 new columns for Hour, Minute, Second and Microsecond\n",
    "airspaceData_df[\"Hour\"] = airspaceData_df[\"DateTime\"].dt.hour\n",
    "airspaceData_df[\"Minute\"] = airspaceData_df[\"DateTime\"].dt.minute\n",
    "airspaceData_df[\"Second\"] = airspaceData_df[\"DateTime\"].dt.second\n",
    "airspaceData_df[\"microSecond\"] = airspaceData_df[\"DateTime\"].dt.microsecond"
   ]
  },
  {
   "cell_type": "code",
   "execution_count": 10,
   "id": "0cd1fc97",
   "metadata": {},
   "outputs": [
    {
     "data": {
      "text/html": [
       "<div>\n",
       "<style scoped>\n",
       "    .dataframe tbody tr th:only-of-type {\n",
       "        vertical-align: middle;\n",
       "    }\n",
       "\n",
       "    .dataframe tbody tr th {\n",
       "        vertical-align: top;\n",
       "    }\n",
       "\n",
       "    .dataframe thead th {\n",
       "        text-align: right;\n",
       "    }\n",
       "</style>\n",
       "<table border=\"1\" class=\"dataframe\">\n",
       "  <thead>\n",
       "    <tr style=\"text-align: right;\">\n",
       "      <th></th>\n",
       "      <th>DateTime</th>\n",
       "      <th>Hour</th>\n",
       "      <th>Minute</th>\n",
       "      <th>Second</th>\n",
       "      <th>microSecond</th>\n",
       "      <th>Latitude</th>\n",
       "      <th>Longitude</th>\n",
       "      <th>Height</th>\n",
       "      <th>TargetID</th>\n",
       "      <th>SelectedHeading</th>\n",
       "      <th>TargetAddress</th>\n",
       "      <th>TrackNumber</th>\n",
       "    </tr>\n",
       "  </thead>\n",
       "  <tbody>\n",
       "    <tr>\n",
       "      <th>0</th>\n",
       "      <td>2021-12-24 23:59:59.992</td>\n",
       "      <td>23</td>\n",
       "      <td>59</td>\n",
       "      <td>59</td>\n",
       "      <td>992000</td>\n",
       "      <td>21.325208</td>\n",
       "      <td>-158.058116</td>\n",
       "      <td>2200.0</td>\n",
       "      <td>UAL253</td>\n",
       "      <td>78.750000</td>\n",
       "      <td>AA92F9</td>\n",
       "      <td>1277.0</td>\n",
       "    </tr>\n",
       "    <tr>\n",
       "      <th>1</th>\n",
       "      <td>2021-12-24 20:54:11.141</td>\n",
       "      <td>20</td>\n",
       "      <td>54</td>\n",
       "      <td>11</td>\n",
       "      <td>141000</td>\n",
       "      <td>21.321762</td>\n",
       "      <td>-157.908142</td>\n",
       "      <td>75.0</td>\n",
       "      <td>N357MH</td>\n",
       "      <td>NaN</td>\n",
       "      <td>A3FFE9</td>\n",
       "      <td>640.0</td>\n",
       "    </tr>\n",
       "    <tr>\n",
       "      <th>2</th>\n",
       "      <td>2021-12-24 12:36:02.773</td>\n",
       "      <td>12</td>\n",
       "      <td>36</td>\n",
       "      <td>2</td>\n",
       "      <td>773000</td>\n",
       "      <td>37.307144</td>\n",
       "      <td>-139.574170</td>\n",
       "      <td>35675.0</td>\n",
       "      <td>ASA899</td>\n",
       "      <td>NaN</td>\n",
       "      <td>A7B779</td>\n",
       "      <td>1024.0</td>\n",
       "    </tr>\n",
       "    <tr>\n",
       "      <th>3</th>\n",
       "      <td>2021-12-24 04:13:17.836</td>\n",
       "      <td>4</td>\n",
       "      <td>13</td>\n",
       "      <td>17</td>\n",
       "      <td>836000</td>\n",
       "      <td>21.496660</td>\n",
       "      <td>-146.918742</td>\n",
       "      <td>37300.0</td>\n",
       "      <td>HAL50</td>\n",
       "      <td>NaN</td>\n",
       "      <td>A48E9E</td>\n",
       "      <td>1024.0</td>\n",
       "    </tr>\n",
       "    <tr>\n",
       "      <th>4</th>\n",
       "      <td>2021-12-24 23:59:59.984</td>\n",
       "      <td>23</td>\n",
       "      <td>59</td>\n",
       "      <td>59</td>\n",
       "      <td>984000</td>\n",
       "      <td>25.936523</td>\n",
       "      <td>-149.628348</td>\n",
       "      <td>38775.0</td>\n",
       "      <td>SWA2385</td>\n",
       "      <td>45.703125</td>\n",
       "      <td>ABF949</td>\n",
       "      <td>1024.0</td>\n",
       "    </tr>\n",
       "  </tbody>\n",
       "</table>\n",
       "</div>"
      ],
      "text/plain": [
       "                 DateTime  Hour  Minute  Second  microSecond   Latitude  \\\n",
       "0 2021-12-24 23:59:59.992    23      59      59       992000  21.325208   \n",
       "1 2021-12-24 20:54:11.141    20      54      11       141000  21.321762   \n",
       "2 2021-12-24 12:36:02.773    12      36       2       773000  37.307144   \n",
       "3 2021-12-24 04:13:17.836     4      13      17       836000  21.496660   \n",
       "4 2021-12-24 23:59:59.984    23      59      59       984000  25.936523   \n",
       "\n",
       "    Longitude   Height TargetID  SelectedHeading TargetAddress  TrackNumber  \n",
       "0 -158.058116   2200.0   UAL253        78.750000        AA92F9       1277.0  \n",
       "1 -157.908142     75.0   N357MH              NaN        A3FFE9        640.0  \n",
       "2 -139.574170  35675.0   ASA899              NaN        A7B779       1024.0  \n",
       "3 -146.918742  37300.0    HAL50              NaN        A48E9E       1024.0  \n",
       "4 -149.628348  38775.0  SWA2385        45.703125        ABF949       1024.0  "
      ]
     },
     "execution_count": 10,
     "metadata": {},
     "output_type": "execute_result"
    }
   ],
   "source": [
    "# Reorder columns\n",
    "airspaceData_df = airspaceData_df[[\"DateTime\",\"Hour\",\"Minute\",\"Second\",\"microSecond\",\"Latitude\",\"Longitude\",\"Height\",\n",
    "                                   \"TargetID\",\"SelectedHeading\",\"TargetAddress\",\n",
    "                                   \"TrackNumber\"]]\n",
    "\n",
    "# Preview Dataframe\n",
    "airspaceData_df.head()"
   ]
  },
  {
   "cell_type": "code",
   "execution_count": 11,
   "id": "7a1a175f",
   "metadata": {},
   "outputs": [
    {
     "data": {
      "text/plain": [
       "DateTime           datetime64[ns]\n",
       "Hour                        int64\n",
       "Minute                      int64\n",
       "Second                      int64\n",
       "microSecond                 int64\n",
       "Latitude                  float64\n",
       "Longitude                 float64\n",
       "Height                    float64\n",
       "TargetID                   object\n",
       "SelectedHeading           float64\n",
       "TargetAddress              object\n",
       "TrackNumber               float64\n",
       "dtype: object"
      ]
     },
     "execution_count": 11,
     "metadata": {},
     "output_type": "execute_result"
    }
   ],
   "source": [
    "# Show data types\n",
    "airspaceData_df.dtypes"
   ]
  },
  {
   "cell_type": "code",
   "execution_count": null,
   "id": "1468c5a1",
   "metadata": {},
   "outputs": [],
   "source": []
  },
  {
   "cell_type": "code",
   "execution_count": null,
   "id": "4270d39d",
   "metadata": {},
   "outputs": [],
   "source": []
  },
  {
   "cell_type": "code",
   "execution_count": 46,
   "id": "bbcb2924",
   "metadata": {},
   "outputs": [],
   "source": []
  },
  {
   "cell_type": "code",
   "execution_count": 47,
   "id": "f88fde3d",
   "metadata": {},
   "outputs": [],
   "source": [
    "\n"
   ]
  },
  {
   "cell_type": "code",
   "execution_count": null,
   "id": "0045d616",
   "metadata": {},
   "outputs": [],
   "source": []
  },
  {
   "cell_type": "code",
   "execution_count": null,
   "id": "fc0a842b",
   "metadata": {},
   "outputs": [],
   "source": []
  }
 ],
 "metadata": {
  "kernelspec": {
   "display_name": "conda_python3",
   "language": "python",
   "name": "conda_python3"
  },
  "language_info": {
   "codemirror_mode": {
    "name": "ipython",
    "version": 3
   },
   "file_extension": ".py",
   "mimetype": "text/x-python",
   "name": "python",
   "nbconvert_exporter": "python",
   "pygments_lexer": "ipython3",
   "version": "3.6.13"
  }
 },
 "nbformat": 4,
 "nbformat_minor": 5
}
