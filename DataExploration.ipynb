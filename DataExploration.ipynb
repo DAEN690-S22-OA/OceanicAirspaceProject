{
 "cells": [
  {
   "cell_type": "markdown",
   "id": "46f6c205",
   "metadata": {},
   "source": [
    "# OCEANIC AIRSPACE PROJECT"
   ]
  },
  {
   "cell_type": "code",
   "execution_count": 1,
   "id": "733a447f",
   "metadata": {},
   "outputs": [
    {
     "name": "stdout",
     "output_type": "stream",
     "text": [
      "Collecting geopandas\n",
      "  Downloading geopandas-0.9.0-py2.py3-none-any.whl (994 kB)\n",
      "     |████████████████████████████████| 994 kB 23.3 MB/s            \n",
      "\u001b[?25hCollecting shapely>=1.6\n",
      "  Downloading Shapely-1.8.2-cp36-cp36m-manylinux_2_12_x86_64.manylinux2010_x86_64.whl (2.0 MB)\n",
      "     |████████████████████████████████| 2.0 MB 73.9 MB/s            \n",
      "\u001b[?25hCollecting pyproj>=2.2.0\n",
      "  Downloading pyproj-3.0.1-cp36-cp36m-manylinux2010_x86_64.whl (6.5 MB)\n",
      "     |████████████████████████████████| 6.5 MB 55.3 MB/s            \n",
      "\u001b[?25hRequirement already satisfied: pandas>=0.24.0 in /home/ec2-user/anaconda3/envs/python3/lib/python3.6/site-packages (from geopandas) (1.1.5)\n",
      "Collecting fiona>=1.8\n",
      "  Downloading Fiona-1.8.21-cp36-cp36m-manylinux_2_17_x86_64.manylinux2014_x86_64.whl (16.6 MB)\n",
      "     |████████████████████████████████| 16.6 MB 4.5 MB/s            \n",
      "\u001b[?25hCollecting cligj>=0.5\n",
      "  Downloading cligj-0.7.2-py3-none-any.whl (7.1 kB)\n",
      "Requirement already satisfied: attrs>=17 in /home/ec2-user/anaconda3/envs/python3/lib/python3.6/site-packages (from fiona>=1.8->geopandas) (20.3.0)\n",
      "Requirement already satisfied: six>=1.7 in /home/ec2-user/anaconda3/envs/python3/lib/python3.6/site-packages (from fiona>=1.8->geopandas) (1.15.0)\n",
      "Requirement already satisfied: certifi in /home/ec2-user/anaconda3/envs/python3/lib/python3.6/site-packages (from fiona>=1.8->geopandas) (2021.5.30)\n",
      "Requirement already satisfied: setuptools in /home/ec2-user/anaconda3/envs/python3/lib/python3.6/site-packages (from fiona>=1.8->geopandas) (49.6.0.post20210108)\n",
      "Collecting click-plugins>=1.0\n",
      "  Downloading click_plugins-1.1.1-py2.py3-none-any.whl (7.5 kB)\n",
      "Requirement already satisfied: click>=4.0 in /home/ec2-user/anaconda3/envs/python3/lib/python3.6/site-packages (from fiona>=1.8->geopandas) (7.1.2)\n",
      "Collecting munch\n",
      "  Downloading munch-2.5.0-py2.py3-none-any.whl (10 kB)\n",
      "Requirement already satisfied: python-dateutil>=2.7.3 in /home/ec2-user/anaconda3/envs/python3/lib/python3.6/site-packages (from pandas>=0.24.0->geopandas) (2.8.1)\n",
      "Requirement already satisfied: pytz>=2017.2 in /home/ec2-user/anaconda3/envs/python3/lib/python3.6/site-packages (from pandas>=0.24.0->geopandas) (2021.1)\n",
      "Requirement already satisfied: numpy>=1.15.4 in /home/ec2-user/anaconda3/envs/python3/lib/python3.6/site-packages (from pandas>=0.24.0->geopandas) (1.19.5)\n",
      "Installing collected packages: munch, cligj, click-plugins, shapely, pyproj, fiona, geopandas\n",
      "Successfully installed click-plugins-1.1.1 cligj-0.7.2 fiona-1.8.21 geopandas-0.9.0 munch-2.5.0 pyproj-3.0.1 shapely-1.8.2\n",
      "Note: you may need to restart the kernel to use updated packages.\n"
     ]
    }
   ],
   "source": [
    "pip install geopandas"
   ]
  },
  {
   "cell_type": "code",
   "execution_count": 2,
   "id": "094d00f1",
   "metadata": {},
   "outputs": [
    {
     "name": "stdout",
     "output_type": "stream",
     "text": [
      "Collecting geopy\n",
      "  Downloading geopy-2.2.0-py3-none-any.whl (118 kB)\n",
      "     |████████████████████████████████| 118 kB 21.7 MB/s            \n",
      "\u001b[?25hCollecting geographiclib<2,>=1.49\n",
      "  Downloading geographiclib-1.52-py3-none-any.whl (38 kB)\n",
      "Installing collected packages: geographiclib, geopy\n",
      "Successfully installed geographiclib-1.52 geopy-2.2.0\n",
      "Note: you may need to restart the kernel to use updated packages.\n"
     ]
    }
   ],
   "source": [
    "pip install geopy"
   ]
  },
  {
   "cell_type": "code",
   "execution_count": 3,
   "id": "3ee0af70",
   "metadata": {},
   "outputs": [
    {
     "name": "stdout",
     "output_type": "stream",
     "text": [
      "Requirement already satisfied: shapely in /home/ec2-user/anaconda3/envs/python3/lib/python3.6/site-packages (1.8.2)\n",
      "Note: you may need to restart the kernel to use updated packages.\n"
     ]
    }
   ],
   "source": [
    "pip install shapely "
   ]
  },
  {
   "cell_type": "code",
   "execution_count": 4,
   "id": "064c5558",
   "metadata": {},
   "outputs": [],
   "source": [
    "#Import Libraries\n",
    "import pandas as pd\n",
    "import geopandas as ps\n",
    "import geopy as gy\n",
    "import shapely as sy\n",
    "import dask.dataframe as dd"
   ]
  },
  {
   "cell_type": "code",
   "execution_count": 5,
   "id": "8f629072",
   "metadata": {},
   "outputs": [],
   "source": [
    "#Setup the path for the file -- might have to change this if yours is named differently\n",
    "bucket = 'deanproject--sba/rawdata' #Bucket name\n",
    "data_key = 'Dec-24-21.csv' #Path to the CSV file \n",
    "data_location = 's3://{}/{}'.format(bucket, data_key)"
   ]
  },
  {
   "cell_type": "code",
   "execution_count": 6,
   "id": "29033f5c",
   "metadata": {},
   "outputs": [
    {
     "name": "stdout",
     "output_type": "stream",
     "text": [
      "Total record count :  3303988\n"
     ]
    }
   ],
   "source": [
    "#Import all of the raw data \n",
    "rawData_df = dd.read_csv(data_location, assume_missing=True)\n",
    "print(f'Total record count : ',len(rawData_df.index))"
   ]
  },
  {
   "cell_type": "code",
   "execution_count": 7,
   "id": "1db357cd",
   "metadata": {
    "scrolled": true
   },
   "outputs": [
    {
     "data": {
      "text/html": [
       "<div>\n",
       "<style scoped>\n",
       "    .dataframe tbody tr th:only-of-type {\n",
       "        vertical-align: middle;\n",
       "    }\n",
       "\n",
       "    .dataframe tbody tr th {\n",
       "        vertical-align: top;\n",
       "    }\n",
       "\n",
       "    .dataframe thead th {\n",
       "        text-align: right;\n",
       "    }\n",
       "</style>\n",
       "<table border=\"1\" class=\"dataframe\">\n",
       "  <thead>\n",
       "    <tr style=\"text-align: right;\">\n",
       "      <th></th>\n",
       "      <th>DateTime</th>\n",
       "      <th>Latitude</th>\n",
       "      <th>Longitude</th>\n",
       "      <th>Height</th>\n",
       "      <th>TargetID</th>\n",
       "      <th>SelectedHeading</th>\n",
       "      <th>TargetAddress</th>\n",
       "      <th>TrackNumber</th>\n",
       "    </tr>\n",
       "  </thead>\n",
       "  <tbody>\n",
       "    <tr>\n",
       "      <th>0</th>\n",
       "      <td>2021-12-24T23:59:59.992Z</td>\n",
       "      <td>21.325208</td>\n",
       "      <td>-158.058116</td>\n",
       "      <td>2200.0</td>\n",
       "      <td>UAL253</td>\n",
       "      <td>78.750000</td>\n",
       "      <td>AA92F9</td>\n",
       "      <td>1277.0</td>\n",
       "    </tr>\n",
       "    <tr>\n",
       "      <th>1</th>\n",
       "      <td>2021-12-24T20:54:11.141Z</td>\n",
       "      <td>21.321762</td>\n",
       "      <td>-157.908142</td>\n",
       "      <td>75.0</td>\n",
       "      <td>N357MH</td>\n",
       "      <td>NaN</td>\n",
       "      <td>A3FFE9</td>\n",
       "      <td>640.0</td>\n",
       "    </tr>\n",
       "    <tr>\n",
       "      <th>2</th>\n",
       "      <td>2021-12-24T12:36:02.773Z</td>\n",
       "      <td>37.307144</td>\n",
       "      <td>-139.574170</td>\n",
       "      <td>35675.0</td>\n",
       "      <td>ASA899</td>\n",
       "      <td>NaN</td>\n",
       "      <td>A7B779</td>\n",
       "      <td>1024.0</td>\n",
       "    </tr>\n",
       "    <tr>\n",
       "      <th>3</th>\n",
       "      <td>2021-12-24T04:13:17.836Z</td>\n",
       "      <td>21.496660</td>\n",
       "      <td>-146.918742</td>\n",
       "      <td>37300.0</td>\n",
       "      <td>HAL50</td>\n",
       "      <td>NaN</td>\n",
       "      <td>A48E9E</td>\n",
       "      <td>1024.0</td>\n",
       "    </tr>\n",
       "    <tr>\n",
       "      <th>4</th>\n",
       "      <td>2021-12-24T23:59:59.984Z</td>\n",
       "      <td>25.936523</td>\n",
       "      <td>-149.628348</td>\n",
       "      <td>38775.0</td>\n",
       "      <td>SWA2385</td>\n",
       "      <td>45.703125</td>\n",
       "      <td>ABF949</td>\n",
       "      <td>1024.0</td>\n",
       "    </tr>\n",
       "  </tbody>\n",
       "</table>\n",
       "</div>"
      ],
      "text/plain": [
       "                   DateTime   Latitude   Longitude   Height TargetID  \\\n",
       "0  2021-12-24T23:59:59.992Z  21.325208 -158.058116   2200.0   UAL253   \n",
       "1  2021-12-24T20:54:11.141Z  21.321762 -157.908142     75.0   N357MH   \n",
       "2  2021-12-24T12:36:02.773Z  37.307144 -139.574170  35675.0   ASA899   \n",
       "3  2021-12-24T04:13:17.836Z  21.496660 -146.918742  37300.0    HAL50   \n",
       "4  2021-12-24T23:59:59.984Z  25.936523 -149.628348  38775.0  SWA2385   \n",
       "\n",
       "   SelectedHeading TargetAddress  TrackNumber  \n",
       "0        78.750000        AA92F9       1277.0  \n",
       "1              NaN        A3FFE9        640.0  \n",
       "2              NaN        A7B779       1024.0  \n",
       "3              NaN        A48E9E       1024.0  \n",
       "4        45.703125        ABF949       1024.0  "
      ]
     },
     "execution_count": 7,
     "metadata": {},
     "output_type": "execute_result"
    }
   ],
   "source": [
    "#New dataframe with selected attributes from the raw data\n",
    "airspaceData_df =rawData_df[[\"FRN73TMRPDateTimeOfMessageRec\",\"FRN131HRPWCFloatingPointLat\",\"FRN131HRPWCFloatingPointLong\",\"FRN140GHGeometricHeight\",\n",
    "                 \"FRN170TITargetId\",\"RESHSelectedHeading\",\"FRN80TATargetAddress\",\n",
    "                 \"FRN161TNTrackNumber\"]]\n",
    "\n",
    "#Rename columns to make it easier to read\n",
    "airspaceData_df = airspaceData_df.rename(columns={'FRN73TMRPDateTimeOfMessageRec': 'DateTime', \n",
    "                                                  'FRN131HRPWCFloatingPointLat': \"Latitude\", \n",
    "                                                  'FRN131HRPWCFloatingPointLong': \"Longitude\", \n",
    "                                                  'FRN140GHGeometricHeight': \"Height\", \n",
    "                                                  'FRN170TITargetId': \"TargetID\", \n",
    "                                                  'RESHSelectedHeading': \"SelectedHeading\", \n",
    "                                                  'FRN80TATargetAddress': \"TargetAddress\",\n",
    "                                                  'FRN161TNTrackNumber': \"TrackNumber\"})\n",
    "\n",
    "#Preview to ensure everything is looking as expected \n",
    "airspaceData_df.head()"
   ]
  },
  {
   "cell_type": "code",
   "execution_count": 8,
   "id": "000d3d7c",
   "metadata": {},
   "outputs": [],
   "source": [
    "# Convert dask dataframe to pandas dataframe\n",
    "airspaceData = airspaceData_df.compute()"
   ]
  },
  {
   "cell_type": "code",
   "execution_count": 9,
   "id": "e7f0a984",
   "metadata": {},
   "outputs": [],
   "source": [
    "# Remove unnescessary characters \n",
    "char = ['T','Z']\n",
    "for x in char:\n",
    "    airspaceData[\"DateTime\"] = airspaceData[\"DateTime\"].str.replace( x ,\" \")\n",
    "\n",
    "# Formatted Datetime\n",
    "airspaceData[\"DateTime\"] = pd.to_datetime(airspaceData[\"DateTime\"], format=\"%Y-%m-%d %H:%M:%S\")"
   ]
  },
  {
   "cell_type": "code",
   "execution_count": 10,
   "id": "77f9b114",
   "metadata": {},
   "outputs": [],
   "source": [
    "# Create 4 new columns for Hour, Minute, Second and Microsecond\n",
    "airspaceData[\"Hour\"] = airspaceData[\"DateTime\"].dt.hour\n",
    "airspaceData[\"Minute\"] = airspaceData[\"DateTime\"].dt.minute\n",
    "airspaceData[\"Second\"] = airspaceData[\"DateTime\"].dt.second\n",
    "airspaceData[\"microSecond\"] = airspaceData[\"DateTime\"].dt.microsecond"
   ]
  },
  {
   "cell_type": "code",
   "execution_count": 11,
   "id": "f74d6390",
   "metadata": {},
   "outputs": [
    {
     "data": {
      "text/html": [
       "<div>\n",
       "<style scoped>\n",
       "    .dataframe tbody tr th:only-of-type {\n",
       "        vertical-align: middle;\n",
       "    }\n",
       "\n",
       "    .dataframe tbody tr th {\n",
       "        vertical-align: top;\n",
       "    }\n",
       "\n",
       "    .dataframe thead th {\n",
       "        text-align: right;\n",
       "    }\n",
       "</style>\n",
       "<table border=\"1\" class=\"dataframe\">\n",
       "  <thead>\n",
       "    <tr style=\"text-align: right;\">\n",
       "      <th></th>\n",
       "      <th>DateTime</th>\n",
       "      <th>Hour</th>\n",
       "      <th>Minute</th>\n",
       "      <th>Second</th>\n",
       "      <th>microSecond</th>\n",
       "      <th>Latitude</th>\n",
       "      <th>Longitude</th>\n",
       "      <th>Height</th>\n",
       "      <th>TargetID</th>\n",
       "      <th>SelectedHeading</th>\n",
       "      <th>TargetAddress</th>\n",
       "      <th>TrackNumber</th>\n",
       "    </tr>\n",
       "  </thead>\n",
       "  <tbody>\n",
       "    <tr>\n",
       "      <th>0</th>\n",
       "      <td>2021-12-24 23:59:59.992</td>\n",
       "      <td>23</td>\n",
       "      <td>59</td>\n",
       "      <td>59</td>\n",
       "      <td>992000</td>\n",
       "      <td>21.325208</td>\n",
       "      <td>-158.058116</td>\n",
       "      <td>2200.0</td>\n",
       "      <td>UAL253</td>\n",
       "      <td>78.750000</td>\n",
       "      <td>AA92F9</td>\n",
       "      <td>1277.0</td>\n",
       "    </tr>\n",
       "    <tr>\n",
       "      <th>1</th>\n",
       "      <td>2021-12-24 20:54:11.141</td>\n",
       "      <td>20</td>\n",
       "      <td>54</td>\n",
       "      <td>11</td>\n",
       "      <td>141000</td>\n",
       "      <td>21.321762</td>\n",
       "      <td>-157.908142</td>\n",
       "      <td>75.0</td>\n",
       "      <td>N357MH</td>\n",
       "      <td>NaN</td>\n",
       "      <td>A3FFE9</td>\n",
       "      <td>640.0</td>\n",
       "    </tr>\n",
       "    <tr>\n",
       "      <th>2</th>\n",
       "      <td>2021-12-24 12:36:02.773</td>\n",
       "      <td>12</td>\n",
       "      <td>36</td>\n",
       "      <td>2</td>\n",
       "      <td>773000</td>\n",
       "      <td>37.307144</td>\n",
       "      <td>-139.574170</td>\n",
       "      <td>35675.0</td>\n",
       "      <td>ASA899</td>\n",
       "      <td>NaN</td>\n",
       "      <td>A7B779</td>\n",
       "      <td>1024.0</td>\n",
       "    </tr>\n",
       "    <tr>\n",
       "      <th>3</th>\n",
       "      <td>2021-12-24 04:13:17.836</td>\n",
       "      <td>4</td>\n",
       "      <td>13</td>\n",
       "      <td>17</td>\n",
       "      <td>836000</td>\n",
       "      <td>21.496660</td>\n",
       "      <td>-146.918742</td>\n",
       "      <td>37300.0</td>\n",
       "      <td>HAL50</td>\n",
       "      <td>NaN</td>\n",
       "      <td>A48E9E</td>\n",
       "      <td>1024.0</td>\n",
       "    </tr>\n",
       "    <tr>\n",
       "      <th>4</th>\n",
       "      <td>2021-12-24 23:59:59.984</td>\n",
       "      <td>23</td>\n",
       "      <td>59</td>\n",
       "      <td>59</td>\n",
       "      <td>984000</td>\n",
       "      <td>25.936523</td>\n",
       "      <td>-149.628348</td>\n",
       "      <td>38775.0</td>\n",
       "      <td>SWA2385</td>\n",
       "      <td>45.703125</td>\n",
       "      <td>ABF949</td>\n",
       "      <td>1024.0</td>\n",
       "    </tr>\n",
       "  </tbody>\n",
       "</table>\n",
       "</div>"
      ],
      "text/plain": [
       "                 DateTime  Hour  Minute  Second  microSecond   Latitude  \\\n",
       "0 2021-12-24 23:59:59.992    23      59      59       992000  21.325208   \n",
       "1 2021-12-24 20:54:11.141    20      54      11       141000  21.321762   \n",
       "2 2021-12-24 12:36:02.773    12      36       2       773000  37.307144   \n",
       "3 2021-12-24 04:13:17.836     4      13      17       836000  21.496660   \n",
       "4 2021-12-24 23:59:59.984    23      59      59       984000  25.936523   \n",
       "\n",
       "    Longitude   Height TargetID  SelectedHeading TargetAddress  TrackNumber  \n",
       "0 -158.058116   2200.0   UAL253        78.750000        AA92F9       1277.0  \n",
       "1 -157.908142     75.0   N357MH              NaN        A3FFE9        640.0  \n",
       "2 -139.574170  35675.0   ASA899              NaN        A7B779       1024.0  \n",
       "3 -146.918742  37300.0    HAL50              NaN        A48E9E       1024.0  \n",
       "4 -149.628348  38775.0  SWA2385        45.703125        ABF949       1024.0  "
      ]
     },
     "execution_count": 11,
     "metadata": {},
     "output_type": "execute_result"
    }
   ],
   "source": [
    "# Reorder columns\n",
    "airspaceData = airspaceData[[\"DateTime\",\"Hour\",\"Minute\",\"Second\",\"microSecond\",\"Latitude\",\"Longitude\",\"Height\",\n",
    "                                   \"TargetID\",\"SelectedHeading\",\"TargetAddress\",\n",
    "                                   \"TrackNumber\"]]\n",
    "\n",
    "# Preview Dataframe\n",
    "airspaceData.head()"
   ]
  },
  {
   "cell_type": "code",
   "execution_count": 12,
   "id": "f62bf3d7",
   "metadata": {},
   "outputs": [
    {
     "name": "stdout",
     "output_type": "stream",
     "text": [
      "<class 'pandas.core.frame.DataFrame'>\n",
      "Int64Index: 3303988 entries, 0 to 9701\n",
      "Data columns (total 12 columns):\n",
      " #   Column           Dtype         \n",
      "---  ------           -----         \n",
      " 0   DateTime         datetime64[ns]\n",
      " 1   Hour             int64         \n",
      " 2   Minute           int64         \n",
      " 3   Second           int64         \n",
      " 4   microSecond      int64         \n",
      " 5   Latitude         float64       \n",
      " 6   Longitude        float64       \n",
      " 7   Height           float64       \n",
      " 8   TargetID         object        \n",
      " 9   SelectedHeading  float64       \n",
      " 10  TargetAddress    object        \n",
      " 11  TrackNumber      float64       \n",
      "dtypes: datetime64[ns](1), float64(5), int64(4), object(2)\n",
      "memory usage: 327.7+ MB\n"
     ]
    }
   ],
   "source": [
    "# Show data information\n",
    "airspaceData.info()"
   ]
  },
  {
   "cell_type": "code",
   "execution_count": 13,
   "id": "6be66e06",
   "metadata": {},
   "outputs": [
    {
     "data": {
      "text/html": [
       "<div>\n",
       "<style scoped>\n",
       "    .dataframe tbody tr th:only-of-type {\n",
       "        vertical-align: middle;\n",
       "    }\n",
       "\n",
       "    .dataframe tbody tr th {\n",
       "        vertical-align: top;\n",
       "    }\n",
       "\n",
       "    .dataframe thead th {\n",
       "        text-align: right;\n",
       "    }\n",
       "</style>\n",
       "<table border=\"1\" class=\"dataframe\">\n",
       "  <thead>\n",
       "    <tr style=\"text-align: right;\">\n",
       "      <th></th>\n",
       "      <th>Column name</th>\n",
       "      <th>Missing</th>\n",
       "      <th>Percent missing</th>\n",
       "    </tr>\n",
       "  </thead>\n",
       "  <tbody>\n",
       "    <tr>\n",
       "      <th>0</th>\n",
       "      <td>Height</td>\n",
       "      <td>252170</td>\n",
       "      <td>7.6</td>\n",
       "    </tr>\n",
       "    <tr>\n",
       "      <th>1</th>\n",
       "      <td>TargetID</td>\n",
       "      <td>10716</td>\n",
       "      <td>0.3</td>\n",
       "    </tr>\n",
       "    <tr>\n",
       "      <th>2</th>\n",
       "      <td>SelectedHeading</td>\n",
       "      <td>1094058</td>\n",
       "      <td>33.1</td>\n",
       "    </tr>\n",
       "    <tr>\n",
       "      <th>3</th>\n",
       "      <td>TrackNumber</td>\n",
       "      <td>11091</td>\n",
       "      <td>0.3</td>\n",
       "    </tr>\n",
       "  </tbody>\n",
       "</table>\n",
       "</div>"
      ],
      "text/plain": [
       "       Column name  Missing  Percent missing\n",
       "0           Height   252170              7.6\n",
       "1         TargetID    10716              0.3\n",
       "2  SelectedHeading  1094058             33.1\n",
       "3      TrackNumber    11091              0.3"
      ]
     },
     "execution_count": 13,
     "metadata": {},
     "output_type": "execute_result"
    }
   ],
   "source": [
    "# count missing data\n",
    "missing_columns = []\n",
    "missing_count = []\n",
    "Percentmissing = []\n",
    "for col in airspaceData.columns:\n",
    "    if airspaceData[col].isna().any() == True:\n",
    "        missing_columns.append(col)\n",
    "        count = airspaceData[col].isna().sum()\n",
    "        missing_count.append(count)\n",
    "        Percentmissing.append(round(count *100/len(airspaceData),1))\n",
    "    missing_df = {'Column name':missing_columns,'Missing':missing_count, 'Percent missing':Percentmissing}\n",
    "    missingValues_df = pd.DataFrame(missing_df)\n",
    "missingValues_df"
   ]
  },
  {
   "cell_type": "code",
   "execution_count": 14,
   "id": "f804c6fb",
   "metadata": {},
   "outputs": [
    {
     "name": "stdout",
     "output_type": "stream",
     "text": [
      "Requirement already satisfied: matplotlib in /home/ec2-user/anaconda3/envs/python3/lib/python3.6/site-packages (3.3.4)\n",
      "Requirement already satisfied: pillow>=6.2.0 in /home/ec2-user/anaconda3/envs/python3/lib/python3.6/site-packages (from matplotlib) (8.4.0)\n",
      "Requirement already satisfied: numpy>=1.15 in /home/ec2-user/anaconda3/envs/python3/lib/python3.6/site-packages (from matplotlib) (1.19.5)\n",
      "Requirement already satisfied: cycler>=0.10 in /home/ec2-user/anaconda3/envs/python3/lib/python3.6/site-packages (from matplotlib) (0.10.0)\n",
      "Requirement already satisfied: kiwisolver>=1.0.1 in /home/ec2-user/anaconda3/envs/python3/lib/python3.6/site-packages (from matplotlib) (1.3.1)\n",
      "Requirement already satisfied: python-dateutil>=2.1 in /home/ec2-user/anaconda3/envs/python3/lib/python3.6/site-packages (from matplotlib) (2.8.1)\n",
      "Requirement already satisfied: pyparsing!=2.0.4,!=2.1.2,!=2.1.6,>=2.0.3 in /home/ec2-user/anaconda3/envs/python3/lib/python3.6/site-packages (from matplotlib) (2.4.7)\n",
      "Requirement already satisfied: six in /home/ec2-user/anaconda3/envs/python3/lib/python3.6/site-packages (from cycler>=0.10->matplotlib) (1.15.0)\n",
      "Note: you may need to restart the kernel to use updated packages.\n"
     ]
    }
   ],
   "source": [
    "pip install --upgrade matplotlib"
   ]
  },
  {
   "cell_type": "code",
   "execution_count": 15,
   "id": "27a63aa3",
   "metadata": {},
   "outputs": [],
   "source": [
    "import matplotlib.pyplot as plt"
   ]
  },
  {
   "cell_type": "code",
   "execution_count": 16,
   "id": "6226e8c1",
   "metadata": {},
   "outputs": [],
   "source": [
    "# Select flight TargetID to map\n",
    "data_select = airspaceData[airspaceData['TargetID'] == 'ASA899']\n",
    "gdf_flight = ps.GeoDataFrame(data_select, \n",
    "                      geometry=ps.points_from_xy(data_select.Longitude, data_select.Latitude))"
   ]
  },
  {
   "cell_type": "code",
   "execution_count": 17,
   "id": "3fe8a7eb",
   "metadata": {},
   "outputs": [],
   "source": [
    "# Select Time to map\n",
    "data_select = airspaceData.loc[(airspaceData['Hour'] == 23) & (airspaceData['Minute'] == 59)]\n",
    "gdf_time = ps.GeoDataFrame(data_select, \n",
    "                      geometry=ps.points_from_xy(data_select.Longitude, data_select.Latitude))"
   ]
  },
  {
   "cell_type": "code",
   "execution_count": 18,
   "id": "7d578cd1",
   "metadata": {},
   "outputs": [],
   "source": [
    "# get build in dataset from geopandas\n",
    "world_data = ps.read_file(ps.datasets.get_path('naturalearth_lowres'))"
   ]
  },
  {
   "cell_type": "code",
   "execution_count": 19,
   "id": "4305ef06",
   "metadata": {},
   "outputs": [
    {
     "data": {
      "image/png": "[encoded data removed]",
      "text/plain": [
       "<Figure size 1440x1296 with 1 Axes>"
      ]
     },
     "metadata": {
      "needs_background": "light"
     },
     "output_type": "display_data"
    }
   ],
   "source": [
    "# Plot world map\n",
    "axis = world_data[world_data.continent == 'North America'].plot(color = 'lightblue')\n",
    "gdf_flight.plot(ax = axis, color = 'red')\n",
    "\n",
    "fig = plt.gcf()\n",
    "fig.set_size_inches(20,18)\n",
    "plt.show()"
   ]
  },
  {
   "cell_type": "code",
   "execution_count": null,
   "id": "4758cae8",
   "metadata": {},
   "outputs": [],
   "source": [
    "# Plot world map\n",
    "axis = world_data.plot(color = 'lightblue')\n",
    "gdf_time.plot(ax = axis, color = 'red')\n",
    "\n",
    "fig = plt.gcf()\n",
    "fig.set_size_inches(20,18)\n",
    "plt.show()"
   ]
  }
 ],
 "metadata": {
  "kernelspec": {
   "display_name": "conda_python3",
   "language": "python",
   "name": "conda_python3"
  },
  "language_info": {
   "codemirror_mode": {
    "name": "ipython",
    "version": 3
   },
   "file_extension": ".py",
   "mimetype": "text/x-python",
   "name": "python",
   "nbconvert_exporter": "python",
   "pygments_lexer": "ipython3",
   "version": "3.6.13"
  }
 },
 "nbformat": 4,
 "nbformat_minor": 5
}
